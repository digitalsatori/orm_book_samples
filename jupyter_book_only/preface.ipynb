{
 "cells": [
  {
   "attachments": {},
   "cell_type": "markdown",
   "metadata": {},
   "source": [
    "# Preface"
   ]
  },
  {
   "attachments": {},
   "cell_type": "markdown",
   "metadata": {},
   "source": [
    "## Conventions Used in This Book\n",
    "\n",
    "The following typographical conventions are used in this book:\n",
    "\n",
    "_Italic_\n",
    ": Indicates new terms, URLs, email addresses, filenames, and file extensions.\n",
    "\n",
    "`Constant width`\n",
    ": Used for program listings, as well as within paragraphs to refer to program elements such as variable or function names, databases, data types, environment variables, statements, and keywords.\n",
    "\n",
    "**`Constant width bold`**:\n",
    ": Shows commands or other text that should be typed literally by the user.\n",
    "\n",
    "_`Constant width italic`_\n",
    ": Shows text that should be replaced with user-supplied values or by values determined by context.\n",
    "\n",
    "\n",
    "```{tip}\n",
    "This element signifies a tip or suggestion.\n",
    "```\n",
    "\n",
    "```{note}\n",
    "This element signifies a general note.\n",
    "```\n",
    "\n",
    "```{warning}\n",
    "This element indicates a warning or caution.\n",
    "```\n",
    "\n",
    "## Using Code Examples\n",
    "\n",
    "<!--PROD: Please reach out to author to find out if they will be uploading code examples to oreilly.com or their own site (e.g., GitHub). If there is no code download, delete this whole section. If there is, when you email digidist with the link, let them know what you filled in for title_title (should be as close to book title as possible, i.e., learning_python_2e). This info will determine where digidist loads the files.-->\n",
    "\n",
    "Supplemental material (code examples, exercises, etc.) is available for download at [https://github.com/oreillymedia/title_title](https://github.com/oreillymedia/title_title).\n",
    "\n",
    "If you have a technical question or a problem using the code examples, please send email to <a class=\"email\" href=\"mailto:support@oreilly.com\"><em>support@oreilly.com</em></a>.\n",
    "\n",
    "This book is here to help you get your job done. In general, if example code is offered with this book, you may use it in your programs and documentation. You do not need to contact us for permission unless you’re reproducing a significant portion of the code. For example, writing a program that uses several chunks of code from this book does not require permission. Selling or distributing examples from O’Reilly books does require permission. Answering a question by citing this book and quoting example code does not require permission. Incorporating a significant amount of example code from this book into your product’s documentation does require permission.\n",
    "\n",
    "We appreciate, but generally do not require, attribution. An attribution usually includes the title, author, publisher, and ISBN. For example: “_Book Title_ by Some Author (O’Reilly). Copyright 2012 Some Copyright Holder, 978-0-596-xxxx-x.”\n",
    "\n",
    "If you feel your use of code examples falls outside fair use or the permission given above, feel free to contact us at <a class=\"email\" href=\"mailto:permissions@oreilly.com\"><em>permissions@oreilly.com</em></a>.\n",
    "\n",
    "## O'Reilly Online Learning\n",
    "\n",
    "<div data-type=\"note\" class=\"ormenabled\">\n",
    "<p>For more than 40 years, <a xmlns=\"http://www.w3.org/1999/xhtml\" href=\"https://oreilly.com\" class=\"orm:hideurl\"><em class=\"hyperlink\">O'Reilly Media</em></a> has provided technology and business training, knowledge, and insight to help companies succeed.</p>\n",
    "</div>\n",
    "\n",
    "Our unique network of experts and innovators share their knowledge and expertise through books, articles, and our online learning platform. O’Reilly’s online learning platform gives you on-demand access to live training courses, in-depth learning paths, interactive coding environments, and a vast collection of text and video from O'Reilly and 200+ other publishers. For more information, visit <a href=\"https://oreilly.com\" class=\"orm:hideurl\"><em>https://oreilly.com</em></a>.\n",
    "\n",
    "## How to Contact Us\n",
    "\n",
    "Please address comments and questions concerning this book to the publisher:\n",
    "\n",
    "<ul class=\"simplelist\">\n",
    "  <li>O’Reilly Media, Inc.</li>\n",
    "  <li>1005 Gravenstein Highway North</li>\n",
    "  <li>Sebastopol, CA 95472</li>\n",
    "  <li>800-889-8969 (in the United States or Canada)</li>\n",
    "  <li>707-827-7019 (international or local)</li>\n",
    "  <li>707-829-0104 (fax)</li>\n",
    "  <li><a class=\"email\" href=\"mailto:support@oreilly.com\"><em>support@oreilly.com</em></a></li>\n",
    "  <li>[https://oreilly.com/about/contact.html](https://oreilly.com/about/contact.html)</li>\n",
    "</ul>\n",
    "\n",
    "We have a web page for this book, where we list errata, examples, and any additional information. You can access this page at https://www.oreilly.com/catalog/<catalog page>.\n",
    "\n",
    "<!--Don't forget to update the link above.-->\n",
    "\n",
    "For news and information about our books and courses, visit [https://oreilly.com](https://oreilly.com).\n",
    "\n",
    "Find us on LinkedIn: [https://linkedin.com/company/oreilly-media](https://linkedin.com/company/oreilly-media).\n",
    "\n",
    "Watch us on YouTube: [https://youtube.com/oreillymedia](https://youtube.com/oreillymedia).\n",
    "\n",
    "## Acknowledgments\n",
    "\n",
    "<!--Fill in...-->"
   ]
  }
 ],
 "metadata": {
  "kernelspec": {
   "display_name": "Python 3",
   "language": "python",
   "name": "python3"
  },
  "language_info": {
   "name": "python",
   "version": "3.9.6 (default, Jun 13 2022, 11:08:50) \n[Clang 13.0.0 (clang-1300.0.29.30)]"
  },
  "orig_nbformat": 4,
  "vscode": {
   "interpreter": {
    "hash": "513788764cd0ec0f97313d5418a13e1ea666d16d72f976a8acadce25a5af2ffc"
   }
  }
 },
 "nbformat": 4,
 "nbformat_minor": 2
}
